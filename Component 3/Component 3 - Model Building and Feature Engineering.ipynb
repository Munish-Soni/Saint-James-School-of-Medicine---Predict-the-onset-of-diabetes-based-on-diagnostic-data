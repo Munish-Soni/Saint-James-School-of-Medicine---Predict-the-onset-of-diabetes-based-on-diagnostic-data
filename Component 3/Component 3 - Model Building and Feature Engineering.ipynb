{
 "cells": [
  {
   "cell_type": "markdown",
   "id": "b13083f6",
   "metadata": {},
   "source": [
    "# Reading the data into a dataframe using Pandas"
   ]
  },
  {
   "cell_type": "code",
   "execution_count": 1,
   "id": "8a9d6cca",
   "metadata": {},
   "outputs": [
    {
     "data": {
      "text/html": [
       "<div>\n",
       "<style scoped>\n",
       "    .dataframe tbody tr th:only-of-type {\n",
       "        vertical-align: middle;\n",
       "    }\n",
       "\n",
       "    .dataframe tbody tr th {\n",
       "        vertical-align: top;\n",
       "    }\n",
       "\n",
       "    .dataframe thead th {\n",
       "        text-align: right;\n",
       "    }\n",
       "</style>\n",
       "<table border=\"1\" class=\"dataframe\">\n",
       "  <thead>\n",
       "    <tr style=\"text-align: right;\">\n",
       "      <th></th>\n",
       "      <th>Pregnancies</th>\n",
       "      <th>Glucose</th>\n",
       "      <th>BloodPressure</th>\n",
       "      <th>SkinThickness</th>\n",
       "      <th>Insulin</th>\n",
       "      <th>BMI</th>\n",
       "      <th>DiabetesPedigreeFunction</th>\n",
       "      <th>Age</th>\n",
       "      <th>Outcome</th>\n",
       "    </tr>\n",
       "  </thead>\n",
       "  <tbody>\n",
       "    <tr>\n",
       "      <th>0</th>\n",
       "      <td>6</td>\n",
       "      <td>148</td>\n",
       "      <td>72</td>\n",
       "      <td>35</td>\n",
       "      <td>0</td>\n",
       "      <td>33.6</td>\n",
       "      <td>0.627</td>\n",
       "      <td>50</td>\n",
       "      <td>1</td>\n",
       "    </tr>\n",
       "    <tr>\n",
       "      <th>1</th>\n",
       "      <td>1</td>\n",
       "      <td>85</td>\n",
       "      <td>66</td>\n",
       "      <td>29</td>\n",
       "      <td>0</td>\n",
       "      <td>26.6</td>\n",
       "      <td>0.351</td>\n",
       "      <td>31</td>\n",
       "      <td>0</td>\n",
       "    </tr>\n",
       "    <tr>\n",
       "      <th>2</th>\n",
       "      <td>8</td>\n",
       "      <td>183</td>\n",
       "      <td>64</td>\n",
       "      <td>0</td>\n",
       "      <td>0</td>\n",
       "      <td>23.3</td>\n",
       "      <td>0.672</td>\n",
       "      <td>32</td>\n",
       "      <td>1</td>\n",
       "    </tr>\n",
       "    <tr>\n",
       "      <th>3</th>\n",
       "      <td>1</td>\n",
       "      <td>89</td>\n",
       "      <td>66</td>\n",
       "      <td>23</td>\n",
       "      <td>94</td>\n",
       "      <td>28.1</td>\n",
       "      <td>0.167</td>\n",
       "      <td>21</td>\n",
       "      <td>0</td>\n",
       "    </tr>\n",
       "    <tr>\n",
       "      <th>4</th>\n",
       "      <td>0</td>\n",
       "      <td>137</td>\n",
       "      <td>40</td>\n",
       "      <td>35</td>\n",
       "      <td>168</td>\n",
       "      <td>43.1</td>\n",
       "      <td>2.288</td>\n",
       "      <td>33</td>\n",
       "      <td>1</td>\n",
       "    </tr>\n",
       "    <tr>\n",
       "      <th>...</th>\n",
       "      <td>...</td>\n",
       "      <td>...</td>\n",
       "      <td>...</td>\n",
       "      <td>...</td>\n",
       "      <td>...</td>\n",
       "      <td>...</td>\n",
       "      <td>...</td>\n",
       "      <td>...</td>\n",
       "      <td>...</td>\n",
       "    </tr>\n",
       "    <tr>\n",
       "      <th>763</th>\n",
       "      <td>10</td>\n",
       "      <td>101</td>\n",
       "      <td>76</td>\n",
       "      <td>48</td>\n",
       "      <td>180</td>\n",
       "      <td>32.9</td>\n",
       "      <td>0.171</td>\n",
       "      <td>63</td>\n",
       "      <td>0</td>\n",
       "    </tr>\n",
       "    <tr>\n",
       "      <th>764</th>\n",
       "      <td>2</td>\n",
       "      <td>122</td>\n",
       "      <td>70</td>\n",
       "      <td>27</td>\n",
       "      <td>0</td>\n",
       "      <td>36.8</td>\n",
       "      <td>0.340</td>\n",
       "      <td>27</td>\n",
       "      <td>0</td>\n",
       "    </tr>\n",
       "    <tr>\n",
       "      <th>765</th>\n",
       "      <td>5</td>\n",
       "      <td>121</td>\n",
       "      <td>72</td>\n",
       "      <td>23</td>\n",
       "      <td>112</td>\n",
       "      <td>26.2</td>\n",
       "      <td>0.245</td>\n",
       "      <td>30</td>\n",
       "      <td>0</td>\n",
       "    </tr>\n",
       "    <tr>\n",
       "      <th>766</th>\n",
       "      <td>1</td>\n",
       "      <td>126</td>\n",
       "      <td>60</td>\n",
       "      <td>0</td>\n",
       "      <td>0</td>\n",
       "      <td>30.1</td>\n",
       "      <td>0.349</td>\n",
       "      <td>47</td>\n",
       "      <td>1</td>\n",
       "    </tr>\n",
       "    <tr>\n",
       "      <th>767</th>\n",
       "      <td>1</td>\n",
       "      <td>93</td>\n",
       "      <td>70</td>\n",
       "      <td>31</td>\n",
       "      <td>0</td>\n",
       "      <td>30.4</td>\n",
       "      <td>0.315</td>\n",
       "      <td>23</td>\n",
       "      <td>0</td>\n",
       "    </tr>\n",
       "  </tbody>\n",
       "</table>\n",
       "<p>768 rows × 9 columns</p>\n",
       "</div>"
      ],
      "text/plain": [
       "     Pregnancies  Glucose  BloodPressure  SkinThickness  Insulin   BMI   \n",
       "0              6      148             72             35        0  33.6  \\\n",
       "1              1       85             66             29        0  26.6   \n",
       "2              8      183             64              0        0  23.3   \n",
       "3              1       89             66             23       94  28.1   \n",
       "4              0      137             40             35      168  43.1   \n",
       "..           ...      ...            ...            ...      ...   ...   \n",
       "763           10      101             76             48      180  32.9   \n",
       "764            2      122             70             27        0  36.8   \n",
       "765            5      121             72             23      112  26.2   \n",
       "766            1      126             60              0        0  30.1   \n",
       "767            1       93             70             31        0  30.4   \n",
       "\n",
       "     DiabetesPedigreeFunction  Age  Outcome  \n",
       "0                       0.627   50        1  \n",
       "1                       0.351   31        0  \n",
       "2                       0.672   32        1  \n",
       "3                       0.167   21        0  \n",
       "4                       2.288   33        1  \n",
       "..                        ...  ...      ...  \n",
       "763                     0.171   63        0  \n",
       "764                     0.340   27        0  \n",
       "765                     0.245   30        0  \n",
       "766                     0.349   47        1  \n",
       "767                     0.315   23        0  \n",
       "\n",
       "[768 rows x 9 columns]"
      ]
     },
     "execution_count": 1,
     "metadata": {},
     "output_type": "execute_result"
    }
   ],
   "source": [
    "from warnings import filterwarnings\n",
    "filterwarnings('ignore')\n",
    "\n",
    "from pandas import read_csv\n",
    "\n",
    "diabetes = read_csv ('diabetes.csv')\n",
    "\n",
    "diabetes"
   ]
  },
  {
   "cell_type": "code",
   "execution_count": 2,
   "id": "0c672919",
   "metadata": {},
   "outputs": [
    {
     "name": "stdout",
     "output_type": "stream",
     "text": [
      "<class 'pandas.core.frame.DataFrame'>\n",
      "RangeIndex: 768 entries, 0 to 767\n",
      "Data columns (total 9 columns):\n",
      " #   Column                    Non-Null Count  Dtype  \n",
      "---  ------                    --------------  -----  \n",
      " 0   Pregnancies               768 non-null    int64  \n",
      " 1   Glucose                   768 non-null    int64  \n",
      " 2   BloodPressure             768 non-null    int64  \n",
      " 3   SkinThickness             768 non-null    int64  \n",
      " 4   Insulin                   768 non-null    int64  \n",
      " 5   BMI                       768 non-null    float64\n",
      " 6   DiabetesPedigreeFunction  768 non-null    float64\n",
      " 7   Age                       768 non-null    int64  \n",
      " 8   Outcome                   768 non-null    int64  \n",
      "dtypes: float64(2), int64(7)\n",
      "memory usage: 54.1 KB\n"
     ]
    }
   ],
   "source": [
    "diabetes.info()"
   ]
  },
  {
   "cell_type": "code",
   "execution_count": 3,
   "id": "7a18c379",
   "metadata": {},
   "outputs": [
    {
     "data": {
      "text/html": [
       "<div>\n",
       "<style scoped>\n",
       "    .dataframe tbody tr th:only-of-type {\n",
       "        vertical-align: middle;\n",
       "    }\n",
       "\n",
       "    .dataframe tbody tr th {\n",
       "        vertical-align: top;\n",
       "    }\n",
       "\n",
       "    .dataframe thead th {\n",
       "        text-align: right;\n",
       "    }\n",
       "</style>\n",
       "<table border=\"1\" class=\"dataframe\">\n",
       "  <thead>\n",
       "    <tr style=\"text-align: right;\">\n",
       "      <th></th>\n",
       "      <th>Pregnancies</th>\n",
       "      <th>Glucose</th>\n",
       "      <th>BloodPressure</th>\n",
       "      <th>SkinThickness</th>\n",
       "      <th>Insulin</th>\n",
       "      <th>BMI</th>\n",
       "      <th>DiabetesPedigreeFunction</th>\n",
       "      <th>Age</th>\n",
       "      <th>Outcome</th>\n",
       "    </tr>\n",
       "  </thead>\n",
       "  <tbody>\n",
       "    <tr>\n",
       "      <th>count</th>\n",
       "      <td>768.000000</td>\n",
       "      <td>768.000000</td>\n",
       "      <td>768.000000</td>\n",
       "      <td>768.000000</td>\n",
       "      <td>768.000000</td>\n",
       "      <td>768.000000</td>\n",
       "      <td>768.000000</td>\n",
       "      <td>768.000000</td>\n",
       "      <td>768.000000</td>\n",
       "    </tr>\n",
       "    <tr>\n",
       "      <th>mean</th>\n",
       "      <td>3.845052</td>\n",
       "      <td>120.894531</td>\n",
       "      <td>69.105469</td>\n",
       "      <td>20.536458</td>\n",
       "      <td>79.799479</td>\n",
       "      <td>31.992578</td>\n",
       "      <td>0.471876</td>\n",
       "      <td>33.240885</td>\n",
       "      <td>0.348958</td>\n",
       "    </tr>\n",
       "    <tr>\n",
       "      <th>std</th>\n",
       "      <td>3.369578</td>\n",
       "      <td>31.972618</td>\n",
       "      <td>19.355807</td>\n",
       "      <td>15.952218</td>\n",
       "      <td>115.244002</td>\n",
       "      <td>7.884160</td>\n",
       "      <td>0.331329</td>\n",
       "      <td>11.760232</td>\n",
       "      <td>0.476951</td>\n",
       "    </tr>\n",
       "    <tr>\n",
       "      <th>min</th>\n",
       "      <td>0.000000</td>\n",
       "      <td>0.000000</td>\n",
       "      <td>0.000000</td>\n",
       "      <td>0.000000</td>\n",
       "      <td>0.000000</td>\n",
       "      <td>0.000000</td>\n",
       "      <td>0.078000</td>\n",
       "      <td>21.000000</td>\n",
       "      <td>0.000000</td>\n",
       "    </tr>\n",
       "    <tr>\n",
       "      <th>25%</th>\n",
       "      <td>1.000000</td>\n",
       "      <td>99.000000</td>\n",
       "      <td>62.000000</td>\n",
       "      <td>0.000000</td>\n",
       "      <td>0.000000</td>\n",
       "      <td>27.300000</td>\n",
       "      <td>0.243750</td>\n",
       "      <td>24.000000</td>\n",
       "      <td>0.000000</td>\n",
       "    </tr>\n",
       "    <tr>\n",
       "      <th>50%</th>\n",
       "      <td>3.000000</td>\n",
       "      <td>117.000000</td>\n",
       "      <td>72.000000</td>\n",
       "      <td>23.000000</td>\n",
       "      <td>30.500000</td>\n",
       "      <td>32.000000</td>\n",
       "      <td>0.372500</td>\n",
       "      <td>29.000000</td>\n",
       "      <td>0.000000</td>\n",
       "    </tr>\n",
       "    <tr>\n",
       "      <th>75%</th>\n",
       "      <td>6.000000</td>\n",
       "      <td>140.250000</td>\n",
       "      <td>80.000000</td>\n",
       "      <td>32.000000</td>\n",
       "      <td>127.250000</td>\n",
       "      <td>36.600000</td>\n",
       "      <td>0.626250</td>\n",
       "      <td>41.000000</td>\n",
       "      <td>1.000000</td>\n",
       "    </tr>\n",
       "    <tr>\n",
       "      <th>max</th>\n",
       "      <td>17.000000</td>\n",
       "      <td>199.000000</td>\n",
       "      <td>122.000000</td>\n",
       "      <td>99.000000</td>\n",
       "      <td>846.000000</td>\n",
       "      <td>67.100000</td>\n",
       "      <td>2.420000</td>\n",
       "      <td>81.000000</td>\n",
       "      <td>1.000000</td>\n",
       "    </tr>\n",
       "  </tbody>\n",
       "</table>\n",
       "</div>"
      ],
      "text/plain": [
       "       Pregnancies     Glucose  BloodPressure  SkinThickness     Insulin   \n",
       "count   768.000000  768.000000     768.000000     768.000000  768.000000  \\\n",
       "mean      3.845052  120.894531      69.105469      20.536458   79.799479   \n",
       "std       3.369578   31.972618      19.355807      15.952218  115.244002   \n",
       "min       0.000000    0.000000       0.000000       0.000000    0.000000   \n",
       "25%       1.000000   99.000000      62.000000       0.000000    0.000000   \n",
       "50%       3.000000  117.000000      72.000000      23.000000   30.500000   \n",
       "75%       6.000000  140.250000      80.000000      32.000000  127.250000   \n",
       "max      17.000000  199.000000     122.000000      99.000000  846.000000   \n",
       "\n",
       "              BMI  DiabetesPedigreeFunction         Age     Outcome  \n",
       "count  768.000000                768.000000  768.000000  768.000000  \n",
       "mean    31.992578                  0.471876   33.240885    0.348958  \n",
       "std      7.884160                  0.331329   11.760232    0.476951  \n",
       "min      0.000000                  0.078000   21.000000    0.000000  \n",
       "25%     27.300000                  0.243750   24.000000    0.000000  \n",
       "50%     32.000000                  0.372500   29.000000    0.000000  \n",
       "75%     36.600000                  0.626250   41.000000    1.000000  \n",
       "max     67.100000                  2.420000   81.000000    1.000000  "
      ]
     },
     "execution_count": 3,
     "metadata": {},
     "output_type": "execute_result"
    }
   ],
   "source": [
    "diabetes.describe()"
   ]
  },
  {
   "cell_type": "markdown",
   "id": "bcfaad6f",
   "metadata": {},
   "source": [
    "# Splitting the data into training and testing data"
   ]
  },
  {
   "cell_type": "code",
   "execution_count": 4,
   "id": "a47e0d33",
   "metadata": {},
   "outputs": [],
   "source": [
    "from pandas import DataFrame\n",
    "\n",
    "from sklearn.metrics import accuracy_score\n",
    "\n",
    "report = DataFrame()"
   ]
  },
  {
   "cell_type": "code",
   "execution_count": 5,
   "id": "0e94218e",
   "metadata": {},
   "outputs": [
    {
     "data": {
      "text/plain": [
       "(691, 77, 691, 77)"
      ]
     },
     "execution_count": 5,
     "metadata": {},
     "output_type": "execute_result"
    }
   ],
   "source": [
    "X = diabetes.drop(columns =['Outcome'])\n",
    "Y = diabetes['Outcome']\n",
    "\n",
    "from sklearn.model_selection import train_test_split\n",
    "\n",
    "X_train, X_test, Y_train, Y_test = train_test_split (X, Y, test_size = 0.1, random_state = 768)\n",
    "\n",
    "len (X_train), len (X_test), len (Y_train), len (Y_test)"
   ]
  },
  {
   "cell_type": "markdown",
   "id": "e4cd56ba",
   "metadata": {},
   "source": [
    "# Running algorithms on your dataset"
   ]
  },
  {
   "cell_type": "markdown",
   "id": "c239043b",
   "metadata": {},
   "source": [
    "## (1) Logistic Regression"
   ]
  },
  {
   "cell_type": "code",
   "execution_count": 6,
   "id": "e2b51db2",
   "metadata": {},
   "outputs": [
    {
     "name": "stdout",
     "output_type": "stream",
     "text": [
      "Logistic Regression accuracy : 0.75\n"
     ]
    }
   ],
   "source": [
    "from sklearn.linear_model import LogisticRegression\n",
    "\n",
    "model = LogisticRegression(max_iter=140)\n",
    "\n",
    "model.fit(X_train, Y_train)\n",
    "\n",
    "prediction = model.predict (X_test)\n",
    "\n",
    "report['actual'] = Y_test\n",
    "report['predicted'] = model.predict(X_test)\n",
    "\n",
    "#report\n",
    "\n",
    "print (\"Logistic Regression\", \"accuracy :\", round(accuracy_score (report['actual'], report['predicted']), 2))"
   ]
  },
  {
   "cell_type": "markdown",
   "id": "044aad77",
   "metadata": {},
   "source": [
    "## (2) K Nearest Neighbors"
   ]
  },
  {
   "cell_type": "code",
   "execution_count": 7,
   "id": "85e5281c",
   "metadata": {},
   "outputs": [
    {
     "name": "stdout",
     "output_type": "stream",
     "text": [
      "K Nearest Neighbors accuracy : 0.71\n"
     ]
    }
   ],
   "source": [
    "from sklearn.neighbors import KNeighborsClassifier\n",
    "\n",
    "model = KNeighborsClassifier()\n",
    "\n",
    "model.fit(X_train, Y_train)\n",
    "\n",
    "prediction = model.predict (X_test)\n",
    "\n",
    "report['actual'] = Y_test\n",
    "report['predicted'] = model.predict(X_test)\n",
    "\n",
    "#report\n",
    "\n",
    "print (\"K Nearest Neighbors\", \"accuracy :\", round(accuracy_score (report['actual'], report['predicted']), 2))"
   ]
  },
  {
   "cell_type": "markdown",
   "id": "1f21a0ff",
   "metadata": {},
   "source": [
    "## (3) Decision Tree"
   ]
  },
  {
   "cell_type": "code",
   "execution_count": 8,
   "id": "eb101794",
   "metadata": {},
   "outputs": [
    {
     "name": "stdout",
     "output_type": "stream",
     "text": [
      "Decision Tree accuracy : 0.74\n"
     ]
    }
   ],
   "source": [
    "from sklearn.tree import DecisionTreeClassifier\n",
    "\n",
    "model = DecisionTreeClassifier()\n",
    "\n",
    "model.fit(X_train, Y_train)\n",
    "\n",
    "prediction = model.predict (X_test)\n",
    "\n",
    "report['actual'] = Y_test\n",
    "report['predicted'] = model.predict(X_test)\n",
    "\n",
    "#report\n",
    "\n",
    "print (\"Decision Tree\", \"accuracy :\", round(accuracy_score (report['actual'], report['predicted']), 2))"
   ]
  },
  {
   "cell_type": "markdown",
   "id": "57c7b368",
   "metadata": {},
   "source": [
    "## (4) Random Forest"
   ]
  },
  {
   "cell_type": "code",
   "execution_count": 9,
   "id": "669759f6",
   "metadata": {},
   "outputs": [
    {
     "name": "stdout",
     "output_type": "stream",
     "text": [
      "Random Forest accuracy : 0.74\n"
     ]
    }
   ],
   "source": [
    "from sklearn.ensemble import RandomForestClassifier\n",
    "\n",
    "model = RandomForestClassifier()\n",
    "\n",
    "model.fit(X_train, Y_train)\n",
    "\n",
    "prediction = model.predict (X_test)\n",
    "\n",
    "report['actual'] = Y_test\n",
    "report['predicted'] = model.predict(X_test)\n",
    "\n",
    "#report\n",
    "\n",
    "print (\"Random Forest\", \"accuracy :\", round(accuracy_score (report['actual'], report['predicted']), 2))"
   ]
  },
  {
   "cell_type": "markdown",
   "id": "1fc879d5",
   "metadata": {},
   "source": [
    "# Applying Feature Engineering"
   ]
  },
  {
   "cell_type": "markdown",
   "id": "0aeeac61",
   "metadata": {},
   "source": [
    "## minmax Scaler"
   ]
  },
  {
   "cell_type": "code",
   "execution_count": 10,
   "id": "a25e38d6",
   "metadata": {},
   "outputs": [
    {
     "data": {
      "text/plain": [
       "(691, 77, 691, 77)"
      ]
     },
     "execution_count": 10,
     "metadata": {},
     "output_type": "execute_result"
    }
   ],
   "source": [
    "from sklearn.preprocessing import MinMaxScaler\n",
    "\n",
    "scaler = MinMaxScaler()\n",
    "\n",
    "X_scaled = scaler.fit_transform(X)\n",
    "\n",
    "X_train, X_test, Y_train, Y_test = train_test_split (X_scaled, Y, test_size = 0.1, random_state = 768)\n",
    "\n",
    "len (X_train), len (X_test), len (Y_train), len (Y_test)"
   ]
  },
  {
   "cell_type": "markdown",
   "id": "743d5038",
   "metadata": {},
   "source": [
    "### (1) Logistic Regression"
   ]
  },
  {
   "cell_type": "code",
   "execution_count": 11,
   "id": "8ba99ee5",
   "metadata": {},
   "outputs": [
    {
     "name": "stdout",
     "output_type": "stream",
     "text": [
      "Logistic Regression accuracy : 0.75\n"
     ]
    }
   ],
   "source": [
    "from sklearn.linear_model import LogisticRegression\n",
    "\n",
    "model = LogisticRegression(max_iter=140)\n",
    "\n",
    "model.fit(X_train, Y_train)\n",
    "\n",
    "prediction = model.predict (X_test)\n",
    "\n",
    "report['actual'] = Y_test\n",
    "report['predicted'] = model.predict(X_test)\n",
    "\n",
    "#report\n",
    "\n",
    "print (\"Logistic Regression\", \"accuracy :\", round(accuracy_score (report['actual'], report['predicted']), 2))"
   ]
  },
  {
   "cell_type": "markdown",
   "id": "ba4ee8a6",
   "metadata": {},
   "source": [
    "### (2) K Nearest Neighbors"
   ]
  },
  {
   "cell_type": "code",
   "execution_count": 12,
   "id": "c9c098e1",
   "metadata": {},
   "outputs": [
    {
     "name": "stdout",
     "output_type": "stream",
     "text": [
      "K Nearest Neighbors accuracy after using minmax scaler: 0.77\n"
     ]
    }
   ],
   "source": [
    "from sklearn.neighbors import KNeighborsClassifier\n",
    "\n",
    "model = KNeighborsClassifier()\n",
    "\n",
    "model.fit(X_train, Y_train)\n",
    "\n",
    "prediction = model.predict (X_test)\n",
    "\n",
    "report['actual'] = Y_test\n",
    "report['predicted'] = model.predict(X_test)\n",
    "\n",
    "#report\n",
    "\n",
    "print (\"K Nearest Neighbors\", \"accuracy after using minmax scaler:\", round(accuracy_score (report['actual'], report['predicted']), 2))"
   ]
  },
  {
   "cell_type": "markdown",
   "id": "46ad6079",
   "metadata": {},
   "source": [
    "### (3) Decision Tree"
   ]
  },
  {
   "cell_type": "code",
   "execution_count": 13,
   "id": "40f91a30",
   "metadata": {},
   "outputs": [
    {
     "name": "stdout",
     "output_type": "stream",
     "text": [
      "Decision Tree accuracy after using minmax scaler: 0.71\n"
     ]
    }
   ],
   "source": [
    "from sklearn.tree import DecisionTreeClassifier\n",
    "\n",
    "model = DecisionTreeClassifier()\n",
    "\n",
    "model.fit(X_train, Y_train)\n",
    "\n",
    "prediction = model.predict (X_test)\n",
    "\n",
    "report['actual'] = Y_test\n",
    "report['predicted'] = model.predict(X_test)\n",
    "\n",
    "#report\n",
    "\n",
    "print (\"Decision Tree\", \"accuracy after using minmax scaler:\", round(accuracy_score (report['actual'], report['predicted']), 2))"
   ]
  },
  {
   "cell_type": "markdown",
   "id": "7bcbc4a9",
   "metadata": {},
   "source": [
    "### (4) Random Forest"
   ]
  },
  {
   "cell_type": "code",
   "execution_count": 14,
   "id": "78170be1",
   "metadata": {},
   "outputs": [
    {
     "name": "stdout",
     "output_type": "stream",
     "text": [
      "Random Forest accuracy after using minmax scaler: 0.78\n"
     ]
    }
   ],
   "source": [
    "from sklearn.ensemble import RandomForestClassifier\n",
    "\n",
    "model = RandomForestClassifier()\n",
    "\n",
    "model.fit(X_train, Y_train)\n",
    "\n",
    "prediction = model.predict (X_test)\n",
    "\n",
    "report['actual'] = Y_test\n",
    "report['predicted'] = model.predict(X_test)\n",
    "\n",
    "#report\n",
    "\n",
    "print (\"Random Forest\", \"accuracy after using minmax scaler:\", round(accuracy_score (report['actual'], report['predicted']), 2))"
   ]
  },
  {
   "cell_type": "markdown",
   "id": "e8ac6daa",
   "metadata": {},
   "source": [
    "## Standard Scaler"
   ]
  },
  {
   "cell_type": "code",
   "execution_count": 15,
   "id": "01780b84",
   "metadata": {},
   "outputs": [
    {
     "data": {
      "text/plain": [
       "(691, 77, 691, 77)"
      ]
     },
     "execution_count": 15,
     "metadata": {},
     "output_type": "execute_result"
    }
   ],
   "source": [
    "from sklearn.preprocessing import StandardScaler\n",
    "\n",
    "scaler = StandardScaler()\n",
    "\n",
    "X_scaled = scaler.fit_transform(X)\n",
    "\n",
    "X_train, X_test, Y_train, Y_test = train_test_split (X_scaled, Y, test_size = 0.1, random_state = 768)\n",
    "\n",
    "len (X_train), len (X_test), len (Y_train), len (Y_test)"
   ]
  },
  {
   "cell_type": "markdown",
   "id": "01f5457b",
   "metadata": {},
   "source": [
    "### (1) Logistic Regression"
   ]
  },
  {
   "cell_type": "code",
   "execution_count": 16,
   "id": "53366f8d",
   "metadata": {},
   "outputs": [
    {
     "name": "stdout",
     "output_type": "stream",
     "text": [
      "Logistic Regression accuracy after using standard scaler: 0.75\n"
     ]
    }
   ],
   "source": [
    "from sklearn.linear_model import LogisticRegression\n",
    "\n",
    "model = LogisticRegression(max_iter=140)\n",
    "\n",
    "model.fit(X_train, Y_train)\n",
    "\n",
    "prediction = model.predict (X_test)\n",
    "\n",
    "report['actual'] = Y_test\n",
    "report['predicted'] = model.predict(X_test)\n",
    "\n",
    "#report\n",
    "\n",
    "print (\"Logistic Regression\", \"accuracy after using standard scaler:\", round(accuracy_score (report['actual'], report['predicted']), 2))"
   ]
  },
  {
   "cell_type": "markdown",
   "id": "3a77ea4d",
   "metadata": {},
   "source": [
    "### (2) K Nearest Neighbors"
   ]
  },
  {
   "cell_type": "code",
   "execution_count": 17,
   "id": "63ddfe98",
   "metadata": {},
   "outputs": [
    {
     "name": "stdout",
     "output_type": "stream",
     "text": [
      "K Nearest Neighbors accuracy after using standard scaler: 0.77\n"
     ]
    }
   ],
   "source": [
    "from sklearn.neighbors import KNeighborsClassifier\n",
    "\n",
    "model = KNeighborsClassifier()\n",
    "\n",
    "model.fit(X_train, Y_train)\n",
    "\n",
    "prediction = model.predict (X_test)\n",
    "\n",
    "report['actual'] = Y_test\n",
    "report['predicted'] = model.predict(X_test)\n",
    "\n",
    "#report\n",
    "\n",
    "print (\"K Nearest Neighbors\", \"accuracy after using standard scaler:\", round(accuracy_score (report['actual'], report['predicted']), 2))"
   ]
  },
  {
   "cell_type": "markdown",
   "id": "e0db5c22",
   "metadata": {},
   "source": [
    "### (3) Decision Tree"
   ]
  },
  {
   "cell_type": "code",
   "execution_count": 18,
   "id": "2f15bdf3",
   "metadata": {},
   "outputs": [
    {
     "name": "stdout",
     "output_type": "stream",
     "text": [
      "Decision Tree accuracy after using standard scaler: 0.69\n"
     ]
    }
   ],
   "source": [
    "from sklearn.tree import DecisionTreeClassifier\n",
    "\n",
    "model = DecisionTreeClassifier()\n",
    "\n",
    "model.fit(X_train, Y_train)\n",
    "\n",
    "prediction = model.predict (X_test)\n",
    "\n",
    "report['actual'] = Y_test\n",
    "report['predicted'] = model.predict(X_test)\n",
    "\n",
    "#report\n",
    "\n",
    "print (\"Decision Tree\", \"accuracy after using standard scaler:\", round(accuracy_score (report['actual'], report['predicted']), 2))"
   ]
  },
  {
   "cell_type": "markdown",
   "id": "763ae914",
   "metadata": {},
   "source": [
    "### (4) Random Forest"
   ]
  },
  {
   "cell_type": "code",
   "execution_count": 19,
   "id": "b0928b35",
   "metadata": {},
   "outputs": [
    {
     "name": "stdout",
     "output_type": "stream",
     "text": [
      "Random Forest accuracy after using standard scaler: 0.75\n"
     ]
    }
   ],
   "source": [
    "from sklearn.ensemble import RandomForestClassifier\n",
    "\n",
    "model = RandomForestClassifier()\n",
    "\n",
    "model.fit(X_train, Y_train)\n",
    "\n",
    "prediction = model.predict (X_test)\n",
    "\n",
    "report['actual'] = Y_test\n",
    "report['predicted'] = model.predict(X_test)\n",
    "\n",
    "#report\n",
    "\n",
    "print (\"Random Forest\", \"accuracy after using standard scaler:\", round(accuracy_score (report['actual'], report['predicted']), 2))"
   ]
  },
  {
   "cell_type": "markdown",
   "id": "82c62600",
   "metadata": {},
   "source": [
    "# Principle Component Analysis"
   ]
  },
  {
   "cell_type": "code",
   "execution_count": 20,
   "id": "f78f1ed4",
   "metadata": {},
   "outputs": [
    {
     "data": {
      "text/html": [
       "<div>\n",
       "<style scoped>\n",
       "    .dataframe tbody tr th:only-of-type {\n",
       "        vertical-align: middle;\n",
       "    }\n",
       "\n",
       "    .dataframe tbody tr th {\n",
       "        vertical-align: top;\n",
       "    }\n",
       "\n",
       "    .dataframe thead th {\n",
       "        text-align: right;\n",
       "    }\n",
       "</style>\n",
       "<table border=\"1\" class=\"dataframe\">\n",
       "  <thead>\n",
       "    <tr style=\"text-align: right;\">\n",
       "      <th></th>\n",
       "      <th>Pregnancies</th>\n",
       "      <th>Glucose</th>\n",
       "      <th>BloodPressure</th>\n",
       "      <th>SkinThickness</th>\n",
       "      <th>Insulin</th>\n",
       "      <th>BMI</th>\n",
       "      <th>DiabetesPedigreeFunction</th>\n",
       "      <th>Age</th>\n",
       "      <th>Outcome</th>\n",
       "    </tr>\n",
       "  </thead>\n",
       "  <tbody>\n",
       "    <tr>\n",
       "      <th>Insulin</th>\n",
       "      <td>-28.555231</td>\n",
       "      <td>1220.935799</td>\n",
       "      <td>198.378412</td>\n",
       "      <td>802.979941</td>\n",
       "      <td>13281.180078</td>\n",
       "      <td>179.775172</td>\n",
       "      <td>7.066681</td>\n",
       "      <td>-57.143290</td>\n",
       "      <td>7.175671</td>\n",
       "    </tr>\n",
       "    <tr>\n",
       "      <th>Glucose</th>\n",
       "      <td>13.947131</td>\n",
       "      <td>1022.248314</td>\n",
       "      <td>94.430956</td>\n",
       "      <td>29.239183</td>\n",
       "      <td>1220.935799</td>\n",
       "      <td>55.726987</td>\n",
       "      <td>1.454875</td>\n",
       "      <td>99.082805</td>\n",
       "      <td>7.115079</td>\n",
       "    </tr>\n",
       "    <tr>\n",
       "      <th>Age</th>\n",
       "      <td>21.570620</td>\n",
       "      <td>99.082805</td>\n",
       "      <td>54.523453</td>\n",
       "      <td>-21.381023</td>\n",
       "      <td>-57.143290</td>\n",
       "      <td>3.360330</td>\n",
       "      <td>0.130772</td>\n",
       "      <td>138.303046</td>\n",
       "      <td>1.336953</td>\n",
       "    </tr>\n",
       "    <tr>\n",
       "      <th>BMI</th>\n",
       "      <td>0.469774</td>\n",
       "      <td>55.726987</td>\n",
       "      <td>43.004695</td>\n",
       "      <td>49.373869</td>\n",
       "      <td>179.775172</td>\n",
       "      <td>62.159984</td>\n",
       "      <td>0.367405</td>\n",
       "      <td>3.360330</td>\n",
       "      <td>1.100638</td>\n",
       "    </tr>\n",
       "    <tr>\n",
       "      <th>BloodPressure</th>\n",
       "      <td>9.214538</td>\n",
       "      <td>94.430956</td>\n",
       "      <td>374.647271</td>\n",
       "      <td>64.029396</td>\n",
       "      <td>198.378412</td>\n",
       "      <td>43.004695</td>\n",
       "      <td>0.264638</td>\n",
       "      <td>54.523453</td>\n",
       "      <td>0.600697</td>\n",
       "    </tr>\n",
       "    <tr>\n",
       "      <th>SkinThickness</th>\n",
       "      <td>-4.390041</td>\n",
       "      <td>29.239183</td>\n",
       "      <td>64.029396</td>\n",
       "      <td>254.473245</td>\n",
       "      <td>802.979941</td>\n",
       "      <td>49.373869</td>\n",
       "      <td>0.972136</td>\n",
       "      <td>-21.381023</td>\n",
       "      <td>0.568747</td>\n",
       "    </tr>\n",
       "    <tr>\n",
       "      <th>Pregnancies</th>\n",
       "      <td>11.354056</td>\n",
       "      <td>13.947131</td>\n",
       "      <td>9.214538</td>\n",
       "      <td>-4.390041</td>\n",
       "      <td>-28.555231</td>\n",
       "      <td>0.469774</td>\n",
       "      <td>-0.037426</td>\n",
       "      <td>21.570620</td>\n",
       "      <td>0.356618</td>\n",
       "    </tr>\n",
       "    <tr>\n",
       "      <th>Outcome</th>\n",
       "      <td>0.356618</td>\n",
       "      <td>7.115079</td>\n",
       "      <td>0.600697</td>\n",
       "      <td>0.568747</td>\n",
       "      <td>7.175671</td>\n",
       "      <td>1.100638</td>\n",
       "      <td>0.027472</td>\n",
       "      <td>1.336953</td>\n",
       "      <td>0.227483</td>\n",
       "    </tr>\n",
       "    <tr>\n",
       "      <th>DiabetesPedigreeFunction</th>\n",
       "      <td>-0.037426</td>\n",
       "      <td>1.454875</td>\n",
       "      <td>0.264638</td>\n",
       "      <td>0.972136</td>\n",
       "      <td>7.066681</td>\n",
       "      <td>0.367405</td>\n",
       "      <td>0.109779</td>\n",
       "      <td>0.130772</td>\n",
       "      <td>0.027472</td>\n",
       "    </tr>\n",
       "  </tbody>\n",
       "</table>\n",
       "</div>"
      ],
      "text/plain": [
       "                          Pregnancies      Glucose  BloodPressure   \n",
       "Insulin                    -28.555231  1220.935799     198.378412  \\\n",
       "Glucose                     13.947131  1022.248314      94.430956   \n",
       "Age                         21.570620    99.082805      54.523453   \n",
       "BMI                          0.469774    55.726987      43.004695   \n",
       "BloodPressure                9.214538    94.430956     374.647271   \n",
       "SkinThickness               -4.390041    29.239183      64.029396   \n",
       "Pregnancies                 11.354056    13.947131       9.214538   \n",
       "Outcome                      0.356618     7.115079       0.600697   \n",
       "DiabetesPedigreeFunction    -0.037426     1.454875       0.264638   \n",
       "\n",
       "                          SkinThickness       Insulin         BMI   \n",
       "Insulin                      802.979941  13281.180078  179.775172  \\\n",
       "Glucose                       29.239183   1220.935799   55.726987   \n",
       "Age                          -21.381023    -57.143290    3.360330   \n",
       "BMI                           49.373869    179.775172   62.159984   \n",
       "BloodPressure                 64.029396    198.378412   43.004695   \n",
       "SkinThickness                254.473245    802.979941   49.373869   \n",
       "Pregnancies                   -4.390041    -28.555231    0.469774   \n",
       "Outcome                        0.568747      7.175671    1.100638   \n",
       "DiabetesPedigreeFunction       0.972136      7.066681    0.367405   \n",
       "\n",
       "                          DiabetesPedigreeFunction         Age   Outcome  \n",
       "Insulin                                   7.066681  -57.143290  7.175671  \n",
       "Glucose                                   1.454875   99.082805  7.115079  \n",
       "Age                                       0.130772  138.303046  1.336953  \n",
       "BMI                                       0.367405    3.360330  1.100638  \n",
       "BloodPressure                             0.264638   54.523453  0.600697  \n",
       "SkinThickness                             0.972136  -21.381023  0.568747  \n",
       "Pregnancies                              -0.037426   21.570620  0.356618  \n",
       "Outcome                                   0.027472    1.336953  0.227483  \n",
       "DiabetesPedigreeFunction                  0.109779    0.130772  0.027472  "
      ]
     },
     "execution_count": 20,
     "metadata": {},
     "output_type": "execute_result"
    }
   ],
   "source": [
    "covarins = diabetes.cov()\n",
    "\n",
    "covarins.sort_values(by='Outcome', ascending=False)"
   ]
  },
  {
   "cell_type": "markdown",
   "id": "86d57a3d",
   "metadata": {},
   "source": [
    "### As we can see, from all the above listed columns, Glucose and Insulin contribute towards the most variance. No other variable even comes close to these two.\n",
    "\n",
    "### Therefore, We will be using only these two columns for further prediction"
   ]
  },
  {
   "cell_type": "code",
   "execution_count": 21,
   "id": "5e9ce257",
   "metadata": {},
   "outputs": [
    {
     "data": {
      "text/html": [
       "<div>\n",
       "<style scoped>\n",
       "    .dataframe tbody tr th:only-of-type {\n",
       "        vertical-align: middle;\n",
       "    }\n",
       "\n",
       "    .dataframe tbody tr th {\n",
       "        vertical-align: top;\n",
       "    }\n",
       "\n",
       "    .dataframe thead th {\n",
       "        text-align: right;\n",
       "    }\n",
       "</style>\n",
       "<table border=\"1\" class=\"dataframe\">\n",
       "  <thead>\n",
       "    <tr style=\"text-align: right;\">\n",
       "      <th></th>\n",
       "      <th>Insulin</th>\n",
       "      <th>Glucose</th>\n",
       "      <th>Outcome</th>\n",
       "    </tr>\n",
       "  </thead>\n",
       "  <tbody>\n",
       "    <tr>\n",
       "      <th>0</th>\n",
       "      <td>0</td>\n",
       "      <td>148</td>\n",
       "      <td>1</td>\n",
       "    </tr>\n",
       "    <tr>\n",
       "      <th>1</th>\n",
       "      <td>0</td>\n",
       "      <td>85</td>\n",
       "      <td>0</td>\n",
       "    </tr>\n",
       "    <tr>\n",
       "      <th>2</th>\n",
       "      <td>0</td>\n",
       "      <td>183</td>\n",
       "      <td>1</td>\n",
       "    </tr>\n",
       "    <tr>\n",
       "      <th>3</th>\n",
       "      <td>94</td>\n",
       "      <td>89</td>\n",
       "      <td>0</td>\n",
       "    </tr>\n",
       "    <tr>\n",
       "      <th>4</th>\n",
       "      <td>168</td>\n",
       "      <td>137</td>\n",
       "      <td>1</td>\n",
       "    </tr>\n",
       "    <tr>\n",
       "      <th>...</th>\n",
       "      <td>...</td>\n",
       "      <td>...</td>\n",
       "      <td>...</td>\n",
       "    </tr>\n",
       "    <tr>\n",
       "      <th>763</th>\n",
       "      <td>180</td>\n",
       "      <td>101</td>\n",
       "      <td>0</td>\n",
       "    </tr>\n",
       "    <tr>\n",
       "      <th>764</th>\n",
       "      <td>0</td>\n",
       "      <td>122</td>\n",
       "      <td>0</td>\n",
       "    </tr>\n",
       "    <tr>\n",
       "      <th>765</th>\n",
       "      <td>112</td>\n",
       "      <td>121</td>\n",
       "      <td>0</td>\n",
       "    </tr>\n",
       "    <tr>\n",
       "      <th>766</th>\n",
       "      <td>0</td>\n",
       "      <td>126</td>\n",
       "      <td>1</td>\n",
       "    </tr>\n",
       "    <tr>\n",
       "      <th>767</th>\n",
       "      <td>0</td>\n",
       "      <td>93</td>\n",
       "      <td>0</td>\n",
       "    </tr>\n",
       "  </tbody>\n",
       "</table>\n",
       "<p>768 rows × 3 columns</p>\n",
       "</div>"
      ],
      "text/plain": [
       "     Insulin  Glucose  Outcome\n",
       "0          0      148        1\n",
       "1          0       85        0\n",
       "2          0      183        1\n",
       "3         94       89        0\n",
       "4        168      137        1\n",
       "..       ...      ...      ...\n",
       "763      180      101        0\n",
       "764        0      122        0\n",
       "765      112      121        0\n",
       "766        0      126        1\n",
       "767        0       93        0\n",
       "\n",
       "[768 rows x 3 columns]"
      ]
     },
     "execution_count": 21,
     "metadata": {},
     "output_type": "execute_result"
    }
   ],
   "source": [
    "diabetes_clean = diabetes[['Insulin', 'Glucose', 'Outcome']]\n",
    "\n",
    "diabetes_clean"
   ]
  },
  {
   "cell_type": "code",
   "execution_count": 22,
   "id": "74d45ad3",
   "metadata": {},
   "outputs": [
    {
     "data": {
      "text/html": [
       "<div>\n",
       "<style scoped>\n",
       "    .dataframe tbody tr th:only-of-type {\n",
       "        vertical-align: middle;\n",
       "    }\n",
       "\n",
       "    .dataframe tbody tr th {\n",
       "        vertical-align: top;\n",
       "    }\n",
       "\n",
       "    .dataframe thead th {\n",
       "        text-align: right;\n",
       "    }\n",
       "</style>\n",
       "<table border=\"1\" class=\"dataframe\">\n",
       "  <thead>\n",
       "    <tr style=\"text-align: right;\">\n",
       "      <th></th>\n",
       "      <th>Insulin</th>\n",
       "      <th>Glucose</th>\n",
       "      <th>Outcome</th>\n",
       "    </tr>\n",
       "  </thead>\n",
       "  <tbody>\n",
       "    <tr>\n",
       "      <th>0</th>\n",
       "      <td>111.777741</td>\n",
       "      <td>148.0</td>\n",
       "      <td>1.0</td>\n",
       "    </tr>\n",
       "    <tr>\n",
       "      <th>1</th>\n",
       "      <td>37.395513</td>\n",
       "      <td>85.0</td>\n",
       "      <td>0.0</td>\n",
       "    </tr>\n",
       "    <tr>\n",
       "      <th>2</th>\n",
       "      <td>153.162493</td>\n",
       "      <td>183.0</td>\n",
       "      <td>1.0</td>\n",
       "    </tr>\n",
       "    <tr>\n",
       "      <th>3</th>\n",
       "      <td>94.000000</td>\n",
       "      <td>89.0</td>\n",
       "      <td>0.0</td>\n",
       "    </tr>\n",
       "    <tr>\n",
       "      <th>4</th>\n",
       "      <td>168.000000</td>\n",
       "      <td>137.0</td>\n",
       "      <td>1.0</td>\n",
       "    </tr>\n",
       "    <tr>\n",
       "      <th>...</th>\n",
       "      <td>...</td>\n",
       "      <td>...</td>\n",
       "      <td>...</td>\n",
       "    </tr>\n",
       "    <tr>\n",
       "      <th>763</th>\n",
       "      <td>180.000000</td>\n",
       "      <td>101.0</td>\n",
       "      <td>0.0</td>\n",
       "    </tr>\n",
       "    <tr>\n",
       "      <th>764</th>\n",
       "      <td>81.145108</td>\n",
       "      <td>122.0</td>\n",
       "      <td>0.0</td>\n",
       "    </tr>\n",
       "    <tr>\n",
       "      <th>765</th>\n",
       "      <td>112.000000</td>\n",
       "      <td>121.0</td>\n",
       "      <td>0.0</td>\n",
       "    </tr>\n",
       "    <tr>\n",
       "      <th>766</th>\n",
       "      <td>85.764469</td>\n",
       "      <td>126.0</td>\n",
       "      <td>1.0</td>\n",
       "    </tr>\n",
       "    <tr>\n",
       "      <th>767</th>\n",
       "      <td>46.854885</td>\n",
       "      <td>93.0</td>\n",
       "      <td>0.0</td>\n",
       "    </tr>\n",
       "  </tbody>\n",
       "</table>\n",
       "<p>768 rows × 3 columns</p>\n",
       "</div>"
      ],
      "text/plain": [
       "        Insulin  Glucose  Outcome\n",
       "0    111.777741    148.0      1.0\n",
       "1     37.395513     85.0      0.0\n",
       "2    153.162493    183.0      1.0\n",
       "3     94.000000     89.0      0.0\n",
       "4    168.000000    137.0      1.0\n",
       "..          ...      ...      ...\n",
       "763  180.000000    101.0      0.0\n",
       "764   81.145108    122.0      0.0\n",
       "765  112.000000    121.0      0.0\n",
       "766   85.764469    126.0      1.0\n",
       "767   46.854885     93.0      0.0\n",
       "\n",
       "[768 rows x 3 columns]"
      ]
     },
     "execution_count": 22,
     "metadata": {},
     "output_type": "execute_result"
    }
   ],
   "source": [
    "# Using IterativeImputer for imputation\n",
    "\n",
    "from sklearn.experimental import enable_iterative_imputer\n",
    "from sklearn.impute import IterativeImputer\n",
    "\n",
    "imputer = IterativeImputer()\n",
    "\n",
    "imputer.fit (diabetes_clean)\n",
    "\n",
    "diabetes_clean['Glucose'].replace(0, None, inplace=True)\n",
    "diabetes_clean['Insulin'].replace(0, None, inplace=True)\n",
    "\n",
    "diabetes_clean = DataFrame(imputer.transform (diabetes_clean), columns = imputer.get_feature_names_out())\n",
    "\n",
    "diabetes_clean"
   ]
  },
  {
   "cell_type": "code",
   "execution_count": 23,
   "id": "66d6b8fd",
   "metadata": {},
   "outputs": [
    {
     "data": {
      "text/html": [
       "<div>\n",
       "<style scoped>\n",
       "    .dataframe tbody tr th:only-of-type {\n",
       "        vertical-align: middle;\n",
       "    }\n",
       "\n",
       "    .dataframe tbody tr th {\n",
       "        vertical-align: top;\n",
       "    }\n",
       "\n",
       "    .dataframe thead th {\n",
       "        text-align: right;\n",
       "    }\n",
       "</style>\n",
       "<table border=\"1\" class=\"dataframe\">\n",
       "  <thead>\n",
       "    <tr style=\"text-align: right;\">\n",
       "      <th></th>\n",
       "      <th>Insulin</th>\n",
       "      <th>Glucose</th>\n",
       "      <th>Outcome</th>\n",
       "      <th>anomaly_score</th>\n",
       "    </tr>\n",
       "  </thead>\n",
       "  <tbody>\n",
       "    <tr>\n",
       "      <th>0</th>\n",
       "      <td>111.777741</td>\n",
       "      <td>148.0</td>\n",
       "      <td>1.0</td>\n",
       "      <td>1</td>\n",
       "    </tr>\n",
       "    <tr>\n",
       "      <th>1</th>\n",
       "      <td>37.395513</td>\n",
       "      <td>85.0</td>\n",
       "      <td>0.0</td>\n",
       "      <td>1</td>\n",
       "    </tr>\n",
       "    <tr>\n",
       "      <th>2</th>\n",
       "      <td>153.162493</td>\n",
       "      <td>183.0</td>\n",
       "      <td>1.0</td>\n",
       "      <td>1</td>\n",
       "    </tr>\n",
       "    <tr>\n",
       "      <th>3</th>\n",
       "      <td>94.000000</td>\n",
       "      <td>89.0</td>\n",
       "      <td>0.0</td>\n",
       "      <td>1</td>\n",
       "    </tr>\n",
       "    <tr>\n",
       "      <th>4</th>\n",
       "      <td>168.000000</td>\n",
       "      <td>137.0</td>\n",
       "      <td>1.0</td>\n",
       "      <td>1</td>\n",
       "    </tr>\n",
       "    <tr>\n",
       "      <th>...</th>\n",
       "      <td>...</td>\n",
       "      <td>...</td>\n",
       "      <td>...</td>\n",
       "      <td>...</td>\n",
       "    </tr>\n",
       "    <tr>\n",
       "      <th>763</th>\n",
       "      <td>180.000000</td>\n",
       "      <td>101.0</td>\n",
       "      <td>0.0</td>\n",
       "      <td>1</td>\n",
       "    </tr>\n",
       "    <tr>\n",
       "      <th>764</th>\n",
       "      <td>81.145108</td>\n",
       "      <td>122.0</td>\n",
       "      <td>0.0</td>\n",
       "      <td>1</td>\n",
       "    </tr>\n",
       "    <tr>\n",
       "      <th>765</th>\n",
       "      <td>112.000000</td>\n",
       "      <td>121.0</td>\n",
       "      <td>0.0</td>\n",
       "      <td>1</td>\n",
       "    </tr>\n",
       "    <tr>\n",
       "      <th>766</th>\n",
       "      <td>85.764469</td>\n",
       "      <td>126.0</td>\n",
       "      <td>1.0</td>\n",
       "      <td>1</td>\n",
       "    </tr>\n",
       "    <tr>\n",
       "      <th>767</th>\n",
       "      <td>46.854885</td>\n",
       "      <td>93.0</td>\n",
       "      <td>0.0</td>\n",
       "      <td>1</td>\n",
       "    </tr>\n",
       "  </tbody>\n",
       "</table>\n",
       "<p>768 rows × 4 columns</p>\n",
       "</div>"
      ],
      "text/plain": [
       "        Insulin  Glucose  Outcome  anomaly_score\n",
       "0    111.777741    148.0      1.0              1\n",
       "1     37.395513     85.0      0.0              1\n",
       "2    153.162493    183.0      1.0              1\n",
       "3     94.000000     89.0      0.0              1\n",
       "4    168.000000    137.0      1.0              1\n",
       "..          ...      ...      ...            ...\n",
       "763  180.000000    101.0      0.0              1\n",
       "764   81.145108    122.0      0.0              1\n",
       "765  112.000000    121.0      0.0              1\n",
       "766   85.764469    126.0      1.0              1\n",
       "767   46.854885     93.0      0.0              1\n",
       "\n",
       "[768 rows x 4 columns]"
      ]
     },
     "execution_count": 23,
     "metadata": {},
     "output_type": "execute_result"
    }
   ],
   "source": [
    "# We will be using IsolationForest Algorithm for Outlier detection on the entire dataset\n",
    "\n",
    "from sklearn.ensemble import IsolationForest\n",
    "\n",
    "If = IsolationForest()\n",
    "\n",
    "diabetes_clean['anomaly_score'] = If.fit_predict(diabetes_clean)\n",
    "\n",
    "diabetes_clean"
   ]
  },
  {
   "cell_type": "code",
   "execution_count": 24,
   "id": "0ab06797",
   "metadata": {},
   "outputs": [
    {
     "data": {
      "text/plain": [
       "anomaly_score\n",
       " 1    600\n",
       "-1    168\n",
       "Name: count, dtype: int64"
      ]
     },
     "execution_count": 24,
     "metadata": {},
     "output_type": "execute_result"
    }
   ],
   "source": [
    "# Checking the total number of anomalies\n",
    "\n",
    "diabetes_clean['anomaly_score'].value_counts()"
   ]
  },
  {
   "cell_type": "code",
   "execution_count": 25,
   "id": "0a814167",
   "metadata": {},
   "outputs": [
    {
     "data": {
      "text/plain": [
       "0.22786458333333334"
      ]
     },
     "execution_count": 25,
     "metadata": {},
     "output_type": "execute_result"
    }
   ],
   "source": [
    "# Finding percentage of contamination\n",
    "\n",
    "175/768"
   ]
  },
  {
   "cell_type": "markdown",
   "id": "47206bd3",
   "metadata": {},
   "source": [
    "#### As calculated above, the data contains roughly 23% contamination"
   ]
  },
  {
   "cell_type": "code",
   "execution_count": 26,
   "id": "a46cedf3",
   "metadata": {},
   "outputs": [
    {
     "data": {
      "text/html": [
       "<div>\n",
       "<style scoped>\n",
       "    .dataframe tbody tr th:only-of-type {\n",
       "        vertical-align: middle;\n",
       "    }\n",
       "\n",
       "    .dataframe tbody tr th {\n",
       "        vertical-align: top;\n",
       "    }\n",
       "\n",
       "    .dataframe thead th {\n",
       "        text-align: right;\n",
       "    }\n",
       "</style>\n",
       "<table border=\"1\" class=\"dataframe\">\n",
       "  <thead>\n",
       "    <tr style=\"text-align: right;\">\n",
       "      <th></th>\n",
       "      <th>Insulin</th>\n",
       "      <th>Glucose</th>\n",
       "      <th>Outcome</th>\n",
       "    </tr>\n",
       "  </thead>\n",
       "  <tbody>\n",
       "    <tr>\n",
       "      <th>0</th>\n",
       "      <td>111.777741</td>\n",
       "      <td>148.0</td>\n",
       "      <td>1.0</td>\n",
       "    </tr>\n",
       "    <tr>\n",
       "      <th>1</th>\n",
       "      <td>37.395513</td>\n",
       "      <td>85.0</td>\n",
       "      <td>0.0</td>\n",
       "    </tr>\n",
       "    <tr>\n",
       "      <th>2</th>\n",
       "      <td>153.162493</td>\n",
       "      <td>183.0</td>\n",
       "      <td>1.0</td>\n",
       "    </tr>\n",
       "    <tr>\n",
       "      <th>3</th>\n",
       "      <td>94.000000</td>\n",
       "      <td>89.0</td>\n",
       "      <td>0.0</td>\n",
       "    </tr>\n",
       "    <tr>\n",
       "      <th>4</th>\n",
       "      <td>168.000000</td>\n",
       "      <td>137.0</td>\n",
       "      <td>1.0</td>\n",
       "    </tr>\n",
       "    <tr>\n",
       "      <th>...</th>\n",
       "      <td>...</td>\n",
       "      <td>...</td>\n",
       "      <td>...</td>\n",
       "    </tr>\n",
       "    <tr>\n",
       "      <th>763</th>\n",
       "      <td>180.000000</td>\n",
       "      <td>101.0</td>\n",
       "      <td>0.0</td>\n",
       "    </tr>\n",
       "    <tr>\n",
       "      <th>764</th>\n",
       "      <td>81.145108</td>\n",
       "      <td>122.0</td>\n",
       "      <td>0.0</td>\n",
       "    </tr>\n",
       "    <tr>\n",
       "      <th>765</th>\n",
       "      <td>112.000000</td>\n",
       "      <td>121.0</td>\n",
       "      <td>0.0</td>\n",
       "    </tr>\n",
       "    <tr>\n",
       "      <th>766</th>\n",
       "      <td>85.764469</td>\n",
       "      <td>126.0</td>\n",
       "      <td>1.0</td>\n",
       "    </tr>\n",
       "    <tr>\n",
       "      <th>767</th>\n",
       "      <td>46.854885</td>\n",
       "      <td>93.0</td>\n",
       "      <td>0.0</td>\n",
       "    </tr>\n",
       "  </tbody>\n",
       "</table>\n",
       "<p>600 rows × 3 columns</p>\n",
       "</div>"
      ],
      "text/plain": [
       "        Insulin  Glucose  Outcome\n",
       "0    111.777741    148.0      1.0\n",
       "1     37.395513     85.0      0.0\n",
       "2    153.162493    183.0      1.0\n",
       "3     94.000000     89.0      0.0\n",
       "4    168.000000    137.0      1.0\n",
       "..          ...      ...      ...\n",
       "763  180.000000    101.0      0.0\n",
       "764   81.145108    122.0      0.0\n",
       "765  112.000000    121.0      0.0\n",
       "766   85.764469    126.0      1.0\n",
       "767   46.854885     93.0      0.0\n",
       "\n",
       "[600 rows x 3 columns]"
      ]
     },
     "execution_count": 26,
     "metadata": {},
     "output_type": "execute_result"
    }
   ],
   "source": [
    "# As per the submission in the previous component, we will proceed with the Trimming approach on the data\n",
    "\n",
    "diabetes_final = diabetes_clean[diabetes_clean['anomaly_score'] == 1]\n",
    "\n",
    "diabetes_final.drop(columns = ['anomaly_score'], inplace=True)\n",
    "\n",
    "diabetes_final"
   ]
  },
  {
   "cell_type": "code",
   "execution_count": 27,
   "id": "3dfc8f7a",
   "metadata": {},
   "outputs": [
    {
     "data": {
      "text/plain": [
       "(540, 60, 540, 60)"
      ]
     },
     "execution_count": 27,
     "metadata": {},
     "output_type": "execute_result"
    }
   ],
   "source": [
    "from sklearn.model_selection import train_test_split\n",
    "\n",
    "X = diabetes_final.drop(columns = ['Outcome'])\n",
    "Y = diabetes_final['Outcome']\n",
    "\n",
    "X_train, X_test, Y_train, Y_test = train_test_split (X, Y, test_size = 0.1, random_state = 768)\n",
    "\n",
    "len (X_train), len (X_test), len (Y_train), len (Y_test)"
   ]
  },
  {
   "cell_type": "markdown",
   "id": "42199ba4",
   "metadata": {},
   "source": [
    "## Re-checking the accuracy"
   ]
  },
  {
   "cell_type": "markdown",
   "id": "35f900b0",
   "metadata": {},
   "source": [
    "## (1) Logistic Regression"
   ]
  },
  {
   "cell_type": "code",
   "execution_count": 28,
   "id": "290f1eca",
   "metadata": {},
   "outputs": [
    {
     "name": "stdout",
     "output_type": "stream",
     "text": [
      "Logistic Regression accuracy : 0.8\n"
     ]
    }
   ],
   "source": [
    "from sklearn.linear_model import LogisticRegression\n",
    "\n",
    "model = LogisticRegression(max_iter=140)\n",
    "\n",
    "model.fit(X_train, Y_train)\n",
    "\n",
    "prediction = model.predict (X_test)\n",
    "\n",
    "report = X_test.copy()\n",
    "report['actual'] = Y_test\n",
    "report['predicted'] = model.predict(X_test)\n",
    "\n",
    "#report\n",
    "\n",
    "print (\"Logistic Regression\", \"accuracy :\", round(accuracy_score (report['actual'], report['predicted']), 2))"
   ]
  },
  {
   "cell_type": "markdown",
   "id": "51864bea",
   "metadata": {},
   "source": [
    "## (2) K Nearest Neighbors"
   ]
  },
  {
   "cell_type": "code",
   "execution_count": 29,
   "id": "052f83c7",
   "metadata": {},
   "outputs": [
    {
     "name": "stdout",
     "output_type": "stream",
     "text": [
      "K Nearest Neighbors accuracy : 0.7\n"
     ]
    }
   ],
   "source": [
    "from sklearn.neighbors import KNeighborsClassifier\n",
    "\n",
    "model = KNeighborsClassifier()\n",
    "\n",
    "model.fit(X_train, Y_train)\n",
    "\n",
    "prediction = model.predict (X_test)\n",
    "\n",
    "report = X_test.copy()\n",
    "report['actual'] = Y_test\n",
    "report['predicted'] = model.predict(X_test)\n",
    "\n",
    "#report\n",
    "\n",
    "print (\"K Nearest Neighbors\", \"accuracy :\", round(accuracy_score (report['actual'], report['predicted']), 2))"
   ]
  },
  {
   "cell_type": "markdown",
   "id": "f1101832",
   "metadata": {},
   "source": [
    "## (3) Decision Tree"
   ]
  },
  {
   "cell_type": "code",
   "execution_count": 30,
   "id": "66322c4a",
   "metadata": {},
   "outputs": [
    {
     "name": "stdout",
     "output_type": "stream",
     "text": [
      "Decision Tree accuracy : 0.88\n"
     ]
    }
   ],
   "source": [
    "from sklearn.tree import DecisionTreeClassifier\n",
    "\n",
    "model = DecisionTreeClassifier()\n",
    "\n",
    "model.fit(X_train, Y_train)\n",
    "\n",
    "prediction = model.predict (X_test)\n",
    "\n",
    "report = X_test.copy()\n",
    "report['actual'] = Y_test\n",
    "report['predicted'] = model.predict(X_test)\n",
    "\n",
    "#report\n",
    "\n",
    "print (\"Decision Tree\", \"accuracy :\", round(accuracy_score (report['actual'], report['predicted']), 2))"
   ]
  },
  {
   "cell_type": "markdown",
   "id": "1ef972dd",
   "metadata": {},
   "source": [
    "## (4) Random Forest"
   ]
  },
  {
   "cell_type": "code",
   "execution_count": 31,
   "id": "b28435c5",
   "metadata": {},
   "outputs": [
    {
     "name": "stdout",
     "output_type": "stream",
     "text": [
      "Random Forest accuracy : 0.88\n"
     ]
    }
   ],
   "source": [
    "from sklearn.ensemble import RandomForestClassifier\n",
    "\n",
    "model = RandomForestClassifier()\n",
    "\n",
    "model.fit(X_train, Y_train)\n",
    "\n",
    "prediction = model.predict (X_test)\n",
    "\n",
    "report = X_test.copy()\n",
    "report['actual'] = Y_test\n",
    "report['predicted'] = model.predict(X_test)\n",
    "\n",
    "#report\n",
    "\n",
    "print (\"Random Forest\", \"accuracy :\", round(accuracy_score (report['actual'], report['predicted']), 2))"
   ]
  },
  {
   "cell_type": "markdown",
   "id": "a52057af",
   "metadata": {},
   "source": [
    "### As we can see that after Outlier treatment, the accuracy score of K Nearest Neighbors has slightly reduced (from 71% to 68%) while the accuracy scores of Logistic Regression, Decision Tree and Random Forest and improved significantly.\n",
    "\n",
    "\n",
    "### After Outlier Treatment, Random Forest is showing the highest accuracy (~83%)"
   ]
  }
 ],
 "metadata": {
  "kernelspec": {
   "display_name": "Python 3 (ipykernel)",
   "language": "python",
   "name": "python3"
  },
  "language_info": {
   "codemirror_mode": {
    "name": "ipython",
    "version": 3
   },
   "file_extension": ".py",
   "mimetype": "text/x-python",
   "name": "python",
   "nbconvert_exporter": "python",
   "pygments_lexer": "ipython3",
   "version": "3.11.4"
  }
 },
 "nbformat": 4,
 "nbformat_minor": 5
}
